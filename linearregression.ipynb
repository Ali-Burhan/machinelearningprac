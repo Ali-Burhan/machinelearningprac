{
 "cells": [
  {
   "cell_type": "code",
   "execution_count": 1,
   "metadata": {},
   "outputs": [],
   "source": [
    "import pandas as pd\n",
    "import numpy as np"
   ]
  },
  {
   "cell_type": "code",
   "execution_count": 2,
   "metadata": {},
   "outputs": [],
   "source": [
    "from sklearn.datasets import make_regression"
   ]
  },
  {
   "cell_type": "code",
   "execution_count": 7,
   "metadata": {},
   "outputs": [],
   "source": [
    "np.random.seed(42)"
   ]
  },
  {
   "cell_type": "code",
   "execution_count": 8,
   "metadata": {},
   "outputs": [],
   "source": [
    "x , y = make_regression(n_samples=200,n_features=4,noise=0.1)"
   ]
  },
  {
   "cell_type": "code",
   "execution_count": 13,
   "metadata": {},
   "outputs": [
    {
     "data": {
      "text/plain": [
       "array([ 1.10419614e+01, -9.32281552e+01,  1.56251959e+02, -9.26076119e+01,\n",
       "        5.70428154e+01,  1.68094927e+02, -8.50077943e+01,  2.15076467e+02,\n",
       "       -4.74162768e+01,  8.12472095e+01, -7.69817316e+01, -1.25852443e+02,\n",
       "       -8.92148058e+01,  9.42741606e+01, -2.12341137e+01, -9.43366924e+00,\n",
       "       -1.05993966e+02, -1.56911484e+02, -7.25321711e+01, -1.55025582e+02,\n",
       "       -8.70673888e+01,  1.85127194e+01,  1.28572523e+02,  6.63919592e+01,\n",
       "        6.95757410e+01,  1.71347415e+02, -4.00917920e+01,  1.27258703e+02,\n",
       "       -1.03232772e+02, -4.89931462e+01,  3.70353249e+01,  4.56011980e+01,\n",
       "        1.34138832e+02, -3.52475425e+01,  1.39996985e+02, -1.80802173e+01,\n",
       "       -4.00493811e+01, -7.18877585e+01, -2.63338842e+01, -9.43400891e+00,\n",
       "        3.17584247e+01,  1.62458315e+01,  2.23271962e+02, -9.63026375e+01,\n",
       "        1.24289080e+02,  1.36293964e+01, -1.57712480e+02,  1.22279044e+02,\n",
       "       -1.63482727e+02,  3.51087431e+01, -7.28681961e+01, -1.65562385e+02,\n",
       "       -2.20331600e+02, -4.33660715e+01,  1.67312052e+02, -1.04132992e+01,\n",
       "       -9.60264626e+01,  7.58063903e+01,  4.85538162e+01,  1.86298786e+01,\n",
       "        1.89026343e+02, -8.35667049e+01, -6.91369482e+01, -2.00961001e+01,\n",
       "        7.48229953e+01, -6.32539815e+01,  3.06149692e+00,  1.18837945e+02,\n",
       "        1.12009345e+01,  9.47282469e+01, -1.22215979e+02, -2.03035960e+02,\n",
       "       -7.50671352e+01, -6.71466435e+01,  9.75564055e+01, -4.70968549e+01,\n",
       "        1.74231531e+02,  1.16456719e+01,  2.48313574e+01, -1.90741690e+02,\n",
       "       -1.48932646e+02,  1.94907766e+01, -1.28538881e+02,  4.94003555e+01,\n",
       "        8.39154599e+01, -3.32439030e+00,  1.20648190e+02,  1.01089708e+02,\n",
       "       -7.26472774e+01, -3.11163281e+01,  2.96647981e+01, -9.37172637e+01,\n",
       "        9.17963443e+01, -8.79686949e+01, -6.72621815e+00, -9.77215583e+01,\n",
       "        1.97867995e+02, -6.61907626e+01,  5.42913857e-02,  2.09620632e+02,\n",
       "       -4.56311063e+01,  8.38158981e+01, -6.08404417e-01,  9.94909086e+01,\n",
       "        1.13578453e+01,  6.29248591e+01,  6.17484196e+01, -1.36572409e+02,\n",
       "        2.46933772e+01,  6.53559220e+01,  1.38056136e+02, -4.35221187e+01,\n",
       "        1.81148975e+02, -1.62389909e+01, -4.95797340e+01, -4.07730947e+01,\n",
       "       -1.13202533e+02, -3.83640107e+01, -1.29166350e+02,  8.60759195e+01,\n",
       "       -1.42826897e+02,  6.99241025e+00, -2.88623265e+00,  1.33591520e+02,\n",
       "        5.12517100e+01,  6.08842581e+01,  1.08792940e+01, -1.01063762e+02,\n",
       "       -1.34412128e+02, -1.62747601e+02, -4.40700563e+01, -5.67390229e+01,\n",
       "        9.98068675e+01, -1.07387837e+02,  8.47513731e+00,  2.56472465e+01,\n",
       "        7.88373197e+01, -2.63511408e+00, -8.32789784e+01, -1.40216952e+02,\n",
       "        2.16214686e+02, -2.37960579e+02, -1.90832632e+02,  1.77549395e+02,\n",
       "       -1.38331343e+02,  8.80499709e+01, -7.28769959e+01, -3.36086067e+01,\n",
       "       -8.99821281e+01,  1.01414456e+02, -3.11909956e+01, -1.21973492e+02,\n",
       "        2.33840331e+01, -6.67029921e+00,  6.75405544e+01, -1.74478047e+02,\n",
       "       -1.15771065e+02, -1.02180789e+01, -6.87455168e+01,  1.14138264e+02,\n",
       "       -8.10730082e+01,  7.64102387e+01,  1.24886518e+02,  1.62887947e+02,\n",
       "        4.05533925e+02,  5.62041691e+01,  2.08844922e+01,  1.31069591e+02,\n",
       "       -4.12606796e+01, -2.60190202e+01, -2.09062581e+02,  2.82052867e+02,\n",
       "        1.70776684e+01,  1.65248602e+02,  1.00534097e+02, -8.49956710e+01,\n",
       "       -4.56689641e+01,  8.85360578e+01,  2.68488300e+02, -1.04899587e+01,\n",
       "       -1.39200945e+02,  5.29843457e-01, -4.60870507e+00, -6.75578219e+01,\n",
       "       -4.42550233e+01,  4.35598189e+01, -1.02006832e+02, -1.77171301e+02,\n",
       "        9.53418975e+00,  9.94676562e+00, -1.14905609e+02, -3.42917488e+00,\n",
       "       -7.04395520e+00, -5.89078855e+01, -1.06781325e+02, -9.59022715e+00,\n",
       "        6.92441875e+01, -5.90490645e+01,  6.48296665e+01, -3.88936850e+01])"
      ]
     },
     "execution_count": 13,
     "metadata": {},
     "output_type": "execute_result"
    }
   ],
   "source": [
    "y"
   ]
  },
  {
   "cell_type": "code",
   "execution_count": 14,
   "metadata": {},
   "outputs": [],
   "source": [
    "from sklearn.model_selection import train_test_split"
   ]
  },
  {
   "cell_type": "code",
   "execution_count": 15,
   "metadata": {},
   "outputs": [],
   "source": [
    "x_train,x_test,y_train,y_test = train_test_split(x,y,test_size=0.2,random_state=42)"
   ]
  },
  {
   "cell_type": "code",
   "execution_count": 18,
   "metadata": {},
   "outputs": [],
   "source": [
    "from sklearn.linear_model import LinearRegression"
   ]
  },
  {
   "cell_type": "code",
   "execution_count": 19,
   "metadata": {},
   "outputs": [],
   "source": [
    "lr = LinearRegression()"
   ]
  },
  {
   "cell_type": "code",
   "execution_count": 22,
   "metadata": {},
   "outputs": [
    {
     "data": {
      "text/html": [
       "<style>#sk-container-id-1 {color: black;background-color: white;}#sk-container-id-1 pre{padding: 0;}#sk-container-id-1 div.sk-toggleable {background-color: white;}#sk-container-id-1 label.sk-toggleable__label {cursor: pointer;display: block;width: 100%;margin-bottom: 0;padding: 0.3em;box-sizing: border-box;text-align: center;}#sk-container-id-1 label.sk-toggleable__label-arrow:before {content: \"▸\";float: left;margin-right: 0.25em;color: #696969;}#sk-container-id-1 label.sk-toggleable__label-arrow:hover:before {color: black;}#sk-container-id-1 div.sk-estimator:hover label.sk-toggleable__label-arrow:before {color: black;}#sk-container-id-1 div.sk-toggleable__content {max-height: 0;max-width: 0;overflow: hidden;text-align: left;background-color: #f0f8ff;}#sk-container-id-1 div.sk-toggleable__content pre {margin: 0.2em;color: black;border-radius: 0.25em;background-color: #f0f8ff;}#sk-container-id-1 input.sk-toggleable__control:checked~div.sk-toggleable__content {max-height: 200px;max-width: 100%;overflow: auto;}#sk-container-id-1 input.sk-toggleable__control:checked~label.sk-toggleable__label-arrow:before {content: \"▾\";}#sk-container-id-1 div.sk-estimator input.sk-toggleable__control:checked~label.sk-toggleable__label {background-color: #d4ebff;}#sk-container-id-1 div.sk-label input.sk-toggleable__control:checked~label.sk-toggleable__label {background-color: #d4ebff;}#sk-container-id-1 input.sk-hidden--visually {border: 0;clip: rect(1px 1px 1px 1px);clip: rect(1px, 1px, 1px, 1px);height: 1px;margin: -1px;overflow: hidden;padding: 0;position: absolute;width: 1px;}#sk-container-id-1 div.sk-estimator {font-family: monospace;background-color: #f0f8ff;border: 1px dotted black;border-radius: 0.25em;box-sizing: border-box;margin-bottom: 0.5em;}#sk-container-id-1 div.sk-estimator:hover {background-color: #d4ebff;}#sk-container-id-1 div.sk-parallel-item::after {content: \"\";width: 100%;border-bottom: 1px solid gray;flex-grow: 1;}#sk-container-id-1 div.sk-label:hover label.sk-toggleable__label {background-color: #d4ebff;}#sk-container-id-1 div.sk-serial::before {content: \"\";position: absolute;border-left: 1px solid gray;box-sizing: border-box;top: 0;bottom: 0;left: 50%;z-index: 0;}#sk-container-id-1 div.sk-serial {display: flex;flex-direction: column;align-items: center;background-color: white;padding-right: 0.2em;padding-left: 0.2em;position: relative;}#sk-container-id-1 div.sk-item {position: relative;z-index: 1;}#sk-container-id-1 div.sk-parallel {display: flex;align-items: stretch;justify-content: center;background-color: white;position: relative;}#sk-container-id-1 div.sk-item::before, #sk-container-id-1 div.sk-parallel-item::before {content: \"\";position: absolute;border-left: 1px solid gray;box-sizing: border-box;top: 0;bottom: 0;left: 50%;z-index: -1;}#sk-container-id-1 div.sk-parallel-item {display: flex;flex-direction: column;z-index: 1;position: relative;background-color: white;}#sk-container-id-1 div.sk-parallel-item:first-child::after {align-self: flex-end;width: 50%;}#sk-container-id-1 div.sk-parallel-item:last-child::after {align-self: flex-start;width: 50%;}#sk-container-id-1 div.sk-parallel-item:only-child::after {width: 0;}#sk-container-id-1 div.sk-dashed-wrapped {border: 1px dashed gray;margin: 0 0.4em 0.5em 0.4em;box-sizing: border-box;padding-bottom: 0.4em;background-color: white;}#sk-container-id-1 div.sk-label label {font-family: monospace;font-weight: bold;display: inline-block;line-height: 1.2em;}#sk-container-id-1 div.sk-label-container {text-align: center;}#sk-container-id-1 div.sk-container {/* jupyter's `normalize.less` sets `[hidden] { display: none; }` but bootstrap.min.css set `[hidden] { display: none !important; }` so we also need the `!important` here to be able to override the default hidden behavior on the sphinx rendered scikit-learn.org. See: https://github.com/scikit-learn/scikit-learn/issues/21755 */display: inline-block !important;position: relative;}#sk-container-id-1 div.sk-text-repr-fallback {display: none;}</style><div id=\"sk-container-id-1\" class=\"sk-top-container\"><div class=\"sk-text-repr-fallback\"><pre>LinearRegression()</pre><b>In a Jupyter environment, please rerun this cell to show the HTML representation or trust the notebook. <br />On GitHub, the HTML representation is unable to render, please try loading this page with nbviewer.org.</b></div><div class=\"sk-container\" hidden><div class=\"sk-item\"><div class=\"sk-estimator sk-toggleable\"><input class=\"sk-toggleable__control sk-hidden--visually\" id=\"sk-estimator-id-1\" type=\"checkbox\" checked><label for=\"sk-estimator-id-1\" class=\"sk-toggleable__label sk-toggleable__label-arrow\">LinearRegression</label><div class=\"sk-toggleable__content\"><pre>LinearRegression()</pre></div></div></div></div></div>"
      ],
      "text/plain": [
       "LinearRegression()"
      ]
     },
     "execution_count": 22,
     "metadata": {},
     "output_type": "execute_result"
    }
   ],
   "source": [
    "lr.fit(x_train,y_train)"
   ]
  },
  {
   "cell_type": "code",
   "execution_count": 23,
   "metadata": {},
   "outputs": [],
   "source": [
    "prediction = lr.predict(x_test)"
   ]
  },
  {
   "cell_type": "code",
   "execution_count": 25,
   "metadata": {},
   "outputs": [],
   "source": [
    "from sklearn.metrics import mean_squared_error,mean_absolute_error"
   ]
  },
  {
   "cell_type": "code",
   "execution_count": 26,
   "metadata": {},
   "outputs": [
    {
     "data": {
      "text/plain": [
       "0.007098877469314739"
      ]
     },
     "execution_count": 26,
     "metadata": {},
     "output_type": "execute_result"
    }
   ],
   "source": [
    "mean_squared_error(y_test,prediction)"
   ]
  }
 ],
 "metadata": {
  "kernelspec": {
   "display_name": "Python 3",
   "language": "python",
   "name": "python3"
  },
  "language_info": {
   "codemirror_mode": {
    "name": "ipython",
    "version": 3
   },
   "file_extension": ".py",
   "mimetype": "text/x-python",
   "name": "python",
   "nbconvert_exporter": "python",
   "pygments_lexer": "ipython3",
   "version": "3.11.3"
  }
 },
 "nbformat": 4,
 "nbformat_minor": 2
}
