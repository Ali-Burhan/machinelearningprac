{
 "cells": [
  {
   "cell_type": "markdown",
   "metadata": {},
   "source": [
    "**plotting**\n",
    "Hist\n",
    "pie\n",
    "count\n",
    "bar \n",
    "box\n",
    "scatter \n",
    "line\n",
    "kde\n"
   ]
  }
 ],
 "metadata": {
  "language_info": {
   "name": "python"
  }
 },
 "nbformat": 4,
 "nbformat_minor": 2
}
